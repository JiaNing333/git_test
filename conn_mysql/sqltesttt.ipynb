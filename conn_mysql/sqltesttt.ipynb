{
 "cells": [
  {
   "cell_type": "code",
   "execution_count": 1,
   "id": "f99efb2c",
   "metadata": {},
   "outputs": [],
   "source": [
    "import pymysql\n",
    "import json"
   ]
  },
  {
   "cell_type": "code",
   "execution_count": 2,
   "id": "320de74e",
   "metadata": {},
   "outputs": [],
   "source": [
    "db_settings = {\n",
    "    \"host\": \"127.0.0.1\",\n",
    "    \"port\": 3306,\n",
    "    \"user\": \"webTest\",\n",
    "    \"password\": \"123456\",\n",
    "    \"db\": \"cafe_feature\",\n",
    "    \"charset\": \"utf8\",\n",
    "}"
   ]
  },
  {
   "cell_type": "code",
   "execution_count": 4,
   "id": "47d76a0e",
   "metadata": {},
   "outputs": [],
   "source": [
    "    # 建立Connection物件\n",
    "    \n",
    "    conn = pymysql.connect(**db_settings)\n",
    "    # 建立Cursor物件\n",
    "    \n",
    "    with conn.cursor() as cursor:\n",
    "        # 查詢資料SQL語法\n",
    "        \n",
    "        command = \"select `brand`, `lat` , `long` ,`2019_income` from cafe_Feature_500m_CSV;\"\n",
    "        \n",
    "        # 執行指令\n",
    "        cursor.execute(command)\n",
    "        \n",
    "        # 取得所有資料\n",
    "        result = cursor.fetchall()\n",
    "        \n",
    "        i_result = result.__iter__()\n",
    "        \n",
    "        a = []\n",
    "        \n",
    "        for j, i in enumerate(i_result):\n",
    "            \n",
    "            data=list(i)\n",
    "            \n",
    "            a.append({'type': 'Feature' ,\n",
    "             'properties': {'type': 'coffee',\n",
    "                          'brand': data[0], '_id':j},\n",
    "             'geometry':{'type':'Point', 'coordinates': [data[1],data[2]]}})\n",
    "        \n",
    "        datalist = {'type': 'FeatureCollection','features': a}\n",
    "        \n",
    "#     關閉資料庫\n",
    "    conn.close()\n",
    "    \n",
    "f = open('./points.json','w')\n",
    "f.write(json.dumps(datalist))\n",
    "f.close()"
   ]
  },
  {
   "cell_type": "code",
   "execution_count": null,
   "id": "5339d1ca",
   "metadata": {},
   "outputs": [],
   "source": []
  }
 ],
 "metadata": {
  "kernelspec": {
   "display_name": "Python 3 (ipykernel)",
   "language": "python",
   "name": "python3"
  },
  "language_info": {
   "codemirror_mode": {
    "name": "ipython",
    "version": 3
   },
   "file_extension": ".py",
   "mimetype": "text/x-python",
   "name": "python",
   "nbconvert_exporter": "python",
   "pygments_lexer": "ipython3",
   "version": "3.8.12"
  }
 },
 "nbformat": 4,
 "nbformat_minor": 5
}
