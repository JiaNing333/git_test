{
 "cells": [
  {
   "cell_type": "code",
   "execution_count": 2,
   "id": "7232b0e7",
   "metadata": {},
   "outputs": [],
   "source": [
    "from selenium import webdriver\n",
    "from bs4 import BeautifulSoup"
   ]
  },
  {
   "cell_type": "code",
   "execution_count": 3,
   "id": "d7cdadae",
   "metadata": {
    "scrolled": false
   },
   "outputs": [
    {
     "name": "stdout",
     "output_type": "stream",
     "text": [
      "\n",
      "台北敦南店\n",
      "\n"
     ]
    }
   ],
   "source": [
    "option = webdriver.ChromeOptions()\n",
    "driver = webdriver.Chrome('./chromedriver', options = option)\n",
    "driver.get(\"https://www.fonfood.com/store/542399/branch/%E5%8F%B0%E5%8C%97\")\n",
    "\n",
    "soup = BeautifulSoup(driver.page_source, 'html.parser')\n",
    "# print(soup)\n",
    "\n",
    "# cama_all = soup.select('#store > div.bodyPanel > div.sectionBody > table > tbody')[0].find_all('td')[0].get_text()\n",
    "cama_all = soup.find_all('table')[2].find_all('td')[0].get_text()\n",
    "\n",
    "# print(cama_all)\n",
    "\n",
    "camalist = []\n",
    "\n",
    "for row in cama_all[0:len(s)-1]:\n",
    "    for td in row.find_all('td'):\n",
    "        camalist.append(td.get_text())\n",
    "        \n",
    "print(camalist)\n",
    "\n",
    "quit()"
   ]
  }
 ],
 "metadata": {
  "kernelspec": {
   "display_name": "Python 3",
   "language": "python",
   "name": "python3"
  },
  "language_info": {
   "codemirror_mode": {
    "name": "ipython",
    "version": 3
   },
   "file_extension": ".py",
   "mimetype": "text/x-python",
   "name": "python",
   "nbconvert_exporter": "python",
   "pygments_lexer": "ipython3",
   "version": "3.8.8"
  }
 },
 "nbformat": 4,
 "nbformat_minor": 5
}
