{
 "cells": [
  {
   "cell_type": "code",
   "execution_count": 2,
   "id": "a61a9322",
   "metadata": {},
   "outputs": [],
   "source": [
    "import requests as rqs , os , json\n",
    "from bs4 import BeautifulSoup\n",
    "folderPath = 'line_stickers_Pig'\n",
    "if not os.path.exists(folderPath):\n",
    "    os.makedirs(folderPath)"
   ]
  },
  {
   "cell_type": "code",
   "execution_count": 3,
   "id": "a8432650",
   "metadata": {},
   "outputs": [
    {
     "name": "stdout",
     "output_type": "stream",
     "text": [
      "貼圖ID:397894214, 下載網址: https://stickershop.line-scdn.net/stickershop/v1/sticker/397894214/iPhone/sticker_animation@2x.png;compress=true \n",
      "貼圖ID:397894215, 下載網址: https://stickershop.line-scdn.net/stickershop/v1/sticker/397894215/iPhone/sticker_animation@2x.png;compress=true \n",
      "貼圖ID:397894216, 下載網址: https://stickershop.line-scdn.net/stickershop/v1/sticker/397894216/iPhone/sticker_animation@2x.png;compress=true \n",
      "貼圖ID:397894217, 下載網址: https://stickershop.line-scdn.net/stickershop/v1/sticker/397894217/iPhone/sticker_animation@2x.png;compress=true \n",
      "貼圖ID:397894218, 下載網址: https://stickershop.line-scdn.net/stickershop/v1/sticker/397894218/iPhone/sticker_animation@2x.png;compress=true \n",
      "貼圖ID:397894219, 下載網址: https://stickershop.line-scdn.net/stickershop/v1/sticker/397894219/iPhone/sticker_animation@2x.png;compress=true \n",
      "貼圖ID:397894220, 下載網址: https://stickershop.line-scdn.net/stickershop/v1/sticker/397894220/iPhone/sticker_animation@2x.png;compress=true \n",
      "貼圖ID:397894221, 下載網址: https://stickershop.line-scdn.net/stickershop/v1/sticker/397894221/iPhone/sticker_animation@2x.png;compress=true \n",
      "貼圖ID:397894222, 下載網址: https://stickershop.line-scdn.net/stickershop/v1/sticker/397894222/iPhone/sticker_animation@2x.png;compress=true \n",
      "貼圖ID:397894223, 下載網址: https://stickershop.line-scdn.net/stickershop/v1/sticker/397894223/iPhone/sticker_animation@2x.png;compress=true \n",
      "貼圖ID:397894224, 下載網址: https://stickershop.line-scdn.net/stickershop/v1/sticker/397894224/iPhone/sticker_animation@2x.png;compress=true \n",
      "貼圖ID:397894225, 下載網址: https://stickershop.line-scdn.net/stickershop/v1/sticker/397894225/iPhone/sticker_animation@2x.png;compress=true \n",
      "貼圖ID:397894226, 下載網址: https://stickershop.line-scdn.net/stickershop/v1/sticker/397894226/iPhone/sticker_animation@2x.png;compress=true \n",
      "貼圖ID:397894227, 下載網址: https://stickershop.line-scdn.net/stickershop/v1/sticker/397894227/iPhone/sticker_animation@2x.png;compress=true \n",
      "貼圖ID:397894228, 下載網址: https://stickershop.line-scdn.net/stickershop/v1/sticker/397894228/iPhone/sticker_animation@2x.png;compress=true \n",
      "貼圖ID:397894229, 下載網址: https://stickershop.line-scdn.net/stickershop/v1/sticker/397894229/iPhone/sticker_animation@2x.png;compress=true \n",
      "貼圖ID:397894230, 下載網址: https://stickershop.line-scdn.net/stickershop/v1/sticker/397894230/iPhone/sticker_animation@2x.png;compress=true \n",
      "貼圖ID:397894231, 下載網址: https://stickershop.line-scdn.net/stickershop/v1/sticker/397894231/iPhone/sticker_animation@2x.png;compress=true \n",
      "貼圖ID:397894232, 下載網址: https://stickershop.line-scdn.net/stickershop/v1/sticker/397894232/iPhone/sticker_animation@2x.png;compress=true \n",
      "貼圖ID:397894233, 下載網址: https://stickershop.line-scdn.net/stickershop/v1/sticker/397894233/iPhone/sticker_animation@2x.png;compress=true \n",
      "貼圖ID:397894234, 下載網址: https://stickershop.line-scdn.net/stickershop/v1/sticker/397894234/iPhone/sticker_animation@2x.png;compress=true \n",
      "貼圖ID:397894235, 下載網址: https://stickershop.line-scdn.net/stickershop/v1/sticker/397894235/iPhone/sticker_animation@2x.png;compress=true \n",
      "貼圖ID:397894236, 下載網址: https://stickershop.line-scdn.net/stickershop/v1/sticker/397894236/iPhone/sticker_animation@2x.png;compress=true \n",
      "貼圖ID:397894237, 下載網址: https://stickershop.line-scdn.net/stickershop/v1/sticker/397894237/iPhone/sticker_animation@2x.png;compress=true \n"
     ]
    }
   ],
   "source": [
    "listLine = []\n",
    "\n",
    "my_headers={'user-agent':'Mozilla/5.0 (Windows NT 10.0; Win64; x64) AppleWebKit/537.36 (KHTML, like Gecko) Chrome/94.0.4606.61 Safari/537.36'}\n",
    "\n",
    "url = 'https://store.line.me/stickershop/product/23558/zh-Hant?'\n",
    "\n",
    "r = rqs.get(url,headers = my_headers)\n",
    "soup = BeautifulSoup(r.text,'lxml')\n",
    "\n",
    "li_element = soup.select('ul.mdCMN09Ul.FnStickerList>li.mdCMN09Li.FnStickerPreviewItem')\n",
    "\n",
    "for li in li_element:\n",
    "    strJson = li['data-preview']\n",
    "#     print(strJson)\n",
    "\n",
    "    obj = json.loads(strJson)  #要在 for 裡面\n",
    "    listLine.append({\n",
    "        'id': obj['id'],\n",
    "        'animationUrl':obj['animationUrl']\n",
    "})\n",
    "    \n",
    "# print(listLine)\n",
    "for obj in listLine:\n",
    "    os.system(f\"curl {obj['animationUrl']} -o {folderPath}/{obj['id']}.png\")  #空格很重要,不然會印出字串\n",
    "    print(f\"貼圖ID:{obj['id']}, 下載網址: {obj['animationUrl']} \")\n",
    "\n",
    "# for obj in listLine:\n",
    "#     os.system(f\"curl {obj['animationUrl']} -o {folderPath}/{obj['id']}.png\")\n",
    "#     print(f\"貼圖ID:{obj['id']}, 下載連結: {obj['animationUrl']} \")"
   ]
  }
 ],
 "metadata": {
  "kernelspec": {
   "display_name": "Python 3",
   "language": "python",
   "name": "python3"
  },
  "language_info": {
   "codemirror_mode": {
    "name": "ipython",
    "version": 3
   },
   "file_extension": ".py",
   "mimetype": "text/x-python",
   "name": "python",
   "nbconvert_exporter": "python",
   "pygments_lexer": "ipython3",
   "version": "3.8.8"
  }
 },
 "nbformat": 4,
 "nbformat_minor": 5
}
