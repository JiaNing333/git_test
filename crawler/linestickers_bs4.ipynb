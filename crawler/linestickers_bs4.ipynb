{
 "cells": [
  {
   "cell_type": "code",
   "execution_count": 2,
   "id": "0ffb76af",
   "metadata": {},
   "outputs": [],
   "source": [
    "import requests as rqs , os , json \n",
    "from bs4 import BeautifulSoup\n",
    "folderPath = 'line_stickers'\n",
    "if not os.path.exists(folderPath):\n",
    "    os.makedirs(folderPath)"
   ]
  },
  {
   "cell_type": "code",
   "execution_count": 3,
   "id": "7192f626",
   "metadata": {},
   "outputs": [
    {
     "name": "stdout",
     "output_type": "stream",
     "text": [
      "[{'id': '11325280', 'link': 'https://stickershop.line-scdn.net/stickershop/v1/sticker/11325280/android/sticker.png;compress=true'}, {'id': '11325281', 'link': 'https://stickershop.line-scdn.net/stickershop/v1/sticker/11325281/android/sticker.png;compress=true'}, {'id': '11325282', 'link': 'https://stickershop.line-scdn.net/stickershop/v1/sticker/11325282/android/sticker.png;compress=true'}, {'id': '11325283', 'link': 'https://stickershop.line-scdn.net/stickershop/v1/sticker/11325283/android/sticker.png;compress=true'}, {'id': '11325284', 'link': 'https://stickershop.line-scdn.net/stickershop/v1/sticker/11325284/android/sticker.png;compress=true'}, {'id': '11325285', 'link': 'https://stickershop.line-scdn.net/stickershop/v1/sticker/11325285/android/sticker.png;compress=true'}, {'id': '11325286', 'link': 'https://stickershop.line-scdn.net/stickershop/v1/sticker/11325286/android/sticker.png;compress=true'}, {'id': '11325287', 'link': 'https://stickershop.line-scdn.net/stickershop/v1/sticker/11325287/android/sticker.png;compress=true'}, {'id': '11325288', 'link': 'https://stickershop.line-scdn.net/stickershop/v1/sticker/11325288/android/sticker.png;compress=true'}, {'id': '11325289', 'link': 'https://stickershop.line-scdn.net/stickershop/v1/sticker/11325289/android/sticker.png;compress=true'}, {'id': '11325290', 'link': 'https://stickershop.line-scdn.net/stickershop/v1/sticker/11325290/android/sticker.png;compress=true'}, {'id': '11325291', 'link': 'https://stickershop.line-scdn.net/stickershop/v1/sticker/11325291/android/sticker.png;compress=true'}, {'id': '11325292', 'link': 'https://stickershop.line-scdn.net/stickershop/v1/sticker/11325292/android/sticker.png;compress=true'}, {'id': '11325293', 'link': 'https://stickershop.line-scdn.net/stickershop/v1/sticker/11325293/android/sticker.png;compress=true'}, {'id': '11325294', 'link': 'https://stickershop.line-scdn.net/stickershop/v1/sticker/11325294/android/sticker.png;compress=true'}, {'id': '11325295', 'link': 'https://stickershop.line-scdn.net/stickershop/v1/sticker/11325295/android/sticker.png;compress=true'}, {'id': '11325296', 'link': 'https://stickershop.line-scdn.net/stickershop/v1/sticker/11325296/android/sticker.png;compress=true'}, {'id': '11325297', 'link': 'https://stickershop.line-scdn.net/stickershop/v1/sticker/11325297/android/sticker.png;compress=true'}, {'id': '11325298', 'link': 'https://stickershop.line-scdn.net/stickershop/v1/sticker/11325298/android/sticker.png;compress=true'}, {'id': '11325299', 'link': 'https://stickershop.line-scdn.net/stickershop/v1/sticker/11325299/android/sticker.png;compress=true'}, {'id': '11325300', 'link': 'https://stickershop.line-scdn.net/stickershop/v1/sticker/11325300/android/sticker.png;compress=true'}, {'id': '11325301', 'link': 'https://stickershop.line-scdn.net/stickershop/v1/sticker/11325301/android/sticker.png;compress=true'}, {'id': '11325302', 'link': 'https://stickershop.line-scdn.net/stickershop/v1/sticker/11325302/android/sticker.png;compress=true'}, {'id': '11325303', 'link': 'https://stickershop.line-scdn.net/stickershop/v1/sticker/11325303/android/sticker.png;compress=true'}, {'id': '11325304', 'link': 'https://stickershop.line-scdn.net/stickershop/v1/sticker/11325304/android/sticker.png;compress=true'}, {'id': '11325305', 'link': 'https://stickershop.line-scdn.net/stickershop/v1/sticker/11325305/android/sticker.png;compress=true'}, {'id': '11325306', 'link': 'https://stickershop.line-scdn.net/stickershop/v1/sticker/11325306/android/sticker.png;compress=true'}, {'id': '11325307', 'link': 'https://stickershop.line-scdn.net/stickershop/v1/sticker/11325307/android/sticker.png;compress=true'}, {'id': '11325308', 'link': 'https://stickershop.line-scdn.net/stickershop/v1/sticker/11325308/android/sticker.png;compress=true'}, {'id': '11325309', 'link': 'https://stickershop.line-scdn.net/stickershop/v1/sticker/11325309/android/sticker.png;compress=true'}, {'id': '11325310', 'link': 'https://stickershop.line-scdn.net/stickershop/v1/sticker/11325310/android/sticker.png;compress=true'}, {'id': '11325311', 'link': 'https://stickershop.line-scdn.net/stickershop/v1/sticker/11325311/android/sticker.png;compress=true'}, {'id': '11325312', 'link': 'https://stickershop.line-scdn.net/stickershop/v1/sticker/11325312/android/sticker.png;compress=true'}, {'id': '11325313', 'link': 'https://stickershop.line-scdn.net/stickershop/v1/sticker/11325313/android/sticker.png;compress=true'}, {'id': '11325314', 'link': 'https://stickershop.line-scdn.net/stickershop/v1/sticker/11325314/android/sticker.png;compress=true'}, {'id': '11325315', 'link': 'https://stickershop.line-scdn.net/stickershop/v1/sticker/11325315/android/sticker.png;compress=true'}, {'id': '11325316', 'link': 'https://stickershop.line-scdn.net/stickershop/v1/sticker/11325316/android/sticker.png;compress=true'}, {'id': '11325317', 'link': 'https://stickershop.line-scdn.net/stickershop/v1/sticker/11325317/android/sticker.png;compress=true'}, {'id': '11325318', 'link': 'https://stickershop.line-scdn.net/stickershop/v1/sticker/11325318/android/sticker.png;compress=true'}, {'id': '11325319', 'link': 'https://stickershop.line-scdn.net/stickershop/v1/sticker/11325319/android/sticker.png;compress=true'}]\n",
      "貼圖ID:11325280, 下載連結: https://stickershop.line-scdn.net/stickershop/v1/sticker/11325280/android/sticker.png;compress=true \n",
      "貼圖ID:11325281, 下載連結: https://stickershop.line-scdn.net/stickershop/v1/sticker/11325281/android/sticker.png;compress=true \n",
      "貼圖ID:11325282, 下載連結: https://stickershop.line-scdn.net/stickershop/v1/sticker/11325282/android/sticker.png;compress=true \n",
      "貼圖ID:11325283, 下載連結: https://stickershop.line-scdn.net/stickershop/v1/sticker/11325283/android/sticker.png;compress=true \n",
      "貼圖ID:11325284, 下載連結: https://stickershop.line-scdn.net/stickershop/v1/sticker/11325284/android/sticker.png;compress=true \n",
      "貼圖ID:11325285, 下載連結: https://stickershop.line-scdn.net/stickershop/v1/sticker/11325285/android/sticker.png;compress=true \n",
      "貼圖ID:11325286, 下載連結: https://stickershop.line-scdn.net/stickershop/v1/sticker/11325286/android/sticker.png;compress=true \n",
      "貼圖ID:11325287, 下載連結: https://stickershop.line-scdn.net/stickershop/v1/sticker/11325287/android/sticker.png;compress=true \n",
      "貼圖ID:11325288, 下載連結: https://stickershop.line-scdn.net/stickershop/v1/sticker/11325288/android/sticker.png;compress=true \n",
      "貼圖ID:11325289, 下載連結: https://stickershop.line-scdn.net/stickershop/v1/sticker/11325289/android/sticker.png;compress=true \n",
      "貼圖ID:11325290, 下載連結: https://stickershop.line-scdn.net/stickershop/v1/sticker/11325290/android/sticker.png;compress=true \n",
      "貼圖ID:11325291, 下載連結: https://stickershop.line-scdn.net/stickershop/v1/sticker/11325291/android/sticker.png;compress=true \n",
      "貼圖ID:11325292, 下載連結: https://stickershop.line-scdn.net/stickershop/v1/sticker/11325292/android/sticker.png;compress=true \n",
      "貼圖ID:11325293, 下載連結: https://stickershop.line-scdn.net/stickershop/v1/sticker/11325293/android/sticker.png;compress=true \n",
      "貼圖ID:11325294, 下載連結: https://stickershop.line-scdn.net/stickershop/v1/sticker/11325294/android/sticker.png;compress=true \n",
      "貼圖ID:11325295, 下載連結: https://stickershop.line-scdn.net/stickershop/v1/sticker/11325295/android/sticker.png;compress=true \n",
      "貼圖ID:11325296, 下載連結: https://stickershop.line-scdn.net/stickershop/v1/sticker/11325296/android/sticker.png;compress=true \n",
      "貼圖ID:11325297, 下載連結: https://stickershop.line-scdn.net/stickershop/v1/sticker/11325297/android/sticker.png;compress=true \n",
      "貼圖ID:11325298, 下載連結: https://stickershop.line-scdn.net/stickershop/v1/sticker/11325298/android/sticker.png;compress=true \n",
      "貼圖ID:11325299, 下載連結: https://stickershop.line-scdn.net/stickershop/v1/sticker/11325299/android/sticker.png;compress=true \n",
      "貼圖ID:11325300, 下載連結: https://stickershop.line-scdn.net/stickershop/v1/sticker/11325300/android/sticker.png;compress=true \n",
      "貼圖ID:11325301, 下載連結: https://stickershop.line-scdn.net/stickershop/v1/sticker/11325301/android/sticker.png;compress=true \n",
      "貼圖ID:11325302, 下載連結: https://stickershop.line-scdn.net/stickershop/v1/sticker/11325302/android/sticker.png;compress=true \n",
      "貼圖ID:11325303, 下載連結: https://stickershop.line-scdn.net/stickershop/v1/sticker/11325303/android/sticker.png;compress=true \n",
      "貼圖ID:11325304, 下載連結: https://stickershop.line-scdn.net/stickershop/v1/sticker/11325304/android/sticker.png;compress=true \n"
     ]
    },
    {
     "name": "stdout",
     "output_type": "stream",
     "text": [
      "貼圖ID:11325305, 下載連結: https://stickershop.line-scdn.net/stickershop/v1/sticker/11325305/android/sticker.png;compress=true \n",
      "貼圖ID:11325306, 下載連結: https://stickershop.line-scdn.net/stickershop/v1/sticker/11325306/android/sticker.png;compress=true \n",
      "貼圖ID:11325307, 下載連結: https://stickershop.line-scdn.net/stickershop/v1/sticker/11325307/android/sticker.png;compress=true \n",
      "貼圖ID:11325308, 下載連結: https://stickershop.line-scdn.net/stickershop/v1/sticker/11325308/android/sticker.png;compress=true \n",
      "貼圖ID:11325309, 下載連結: https://stickershop.line-scdn.net/stickershop/v1/sticker/11325309/android/sticker.png;compress=true \n",
      "貼圖ID:11325310, 下載連結: https://stickershop.line-scdn.net/stickershop/v1/sticker/11325310/android/sticker.png;compress=true \n",
      "貼圖ID:11325311, 下載連結: https://stickershop.line-scdn.net/stickershop/v1/sticker/11325311/android/sticker.png;compress=true \n",
      "貼圖ID:11325312, 下載連結: https://stickershop.line-scdn.net/stickershop/v1/sticker/11325312/android/sticker.png;compress=true \n",
      "貼圖ID:11325313, 下載連結: https://stickershop.line-scdn.net/stickershop/v1/sticker/11325313/android/sticker.png;compress=true \n",
      "貼圖ID:11325314, 下載連結: https://stickershop.line-scdn.net/stickershop/v1/sticker/11325314/android/sticker.png;compress=true \n",
      "貼圖ID:11325315, 下載連結: https://stickershop.line-scdn.net/stickershop/v1/sticker/11325315/android/sticker.png;compress=true \n",
      "貼圖ID:11325316, 下載連結: https://stickershop.line-scdn.net/stickershop/v1/sticker/11325316/android/sticker.png;compress=true \n",
      "貼圖ID:11325317, 下載連結: https://stickershop.line-scdn.net/stickershop/v1/sticker/11325317/android/sticker.png;compress=true \n",
      "貼圖ID:11325318, 下載連結: https://stickershop.line-scdn.net/stickershop/v1/sticker/11325318/android/sticker.png;compress=true \n",
      "貼圖ID:11325319, 下載連結: https://stickershop.line-scdn.net/stickershop/v1/sticker/11325319/android/sticker.png;compress=true \n"
     ]
    }
   ],
   "source": [
    "listLineStickers = []\n",
    "my_headers = {\n",
    "    'user-agent' : 'Mozilla/5.0 (Windows NT 10.0; Win64; x64) AppleWebKit/537.36 (KHTML, like Gecko) Chrome/94.0.4606.61 Safari/537.36'\n",
    "}\n",
    "url = 'https://store.line.me/stickershop/product/6451/zh-Hant?l=universal'\n",
    "r = rqs.get(url,headers = my_headers)\n",
    "# print(r.text)\n",
    "soup = BeautifulSoup(r.text,\"lxml\")\n",
    "\n",
    "li_elements = soup.select('ul.mdCMN09Ul.FnStickerList > li.mdCMN09Li.FnStickerPreviewItem')\n",
    "\n",
    "for li in li_elements:\n",
    "    strJson = li['data-preview']\n",
    "#     print(strJson)  \n",
    "\n",
    "    obj = json.loads(strJson)\n",
    "    listLineStickers.append({\n",
    "        \"id\":obj['id'],\n",
    "        \"link\":obj['staticUrl']\n",
    "    })\n",
    "    \n",
    "print(listLineStickers)\n",
    "for obj in listLineStickers:\n",
    "    os.system(f\"curl {obj['link']} -o {folderPath}/{obj['id']}.png\")\n",
    "    print(f\"貼圖ID:{obj['id']}, 下載連結: {obj['link']} \")"
   ]
  },
  {
   "cell_type": "code",
   "execution_count": null,
   "id": "faee11aa",
   "metadata": {},
   "outputs": [],
   "source": []
  }
 ],
 "metadata": {
  "kernelspec": {
   "display_name": "Python 3",
   "language": "python",
   "name": "python3"
  },
  "language_info": {
   "codemirror_mode": {
    "name": "ipython",
    "version": 3
   },
   "file_extension": ".py",
   "mimetype": "text/x-python",
   "name": "python",
   "nbconvert_exporter": "python",
   "pygments_lexer": "ipython3",
   "version": "3.8.8"
  }
 },
 "nbformat": 4,
 "nbformat_minor": 5
}
